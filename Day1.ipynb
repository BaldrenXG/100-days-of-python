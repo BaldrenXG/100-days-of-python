{
  "nbformat": 4,
  "nbformat_minor": 0,
  "metadata": {
    "colab": {
      "provenance": [],
      "authorship_tag": "ABX9TyO+8lweSSTyEwj+HH0VIDrG",
      "include_colab_link": true
    },
    "kernelspec": {
      "name": "python3",
      "display_name": "Python 3"
    },
    "language_info": {
      "name": "python"
    }
  },
  "cells": [
    {
      "cell_type": "markdown",
      "metadata": {
        "id": "view-in-github",
        "colab_type": "text"
      },
      "source": [
        "<a href=\"https://colab.research.google.com/github/BaldrenXG/100-days-of-python/blob/main/Day1.ipynb\" target=\"_parent\"><img src=\"https://colab.research.google.com/assets/colab-badge.svg\" alt=\"Open In Colab\"/></a>"
      ]
    },
    {
      "cell_type": "code",
      "execution_count": 1,
      "metadata": {
        "colab": {
          "base_uri": "https://localhost:8080/"
        },
        "id": "Ku0DzCq24PoD",
        "outputId": "5333219c-c79c-451f-c17b-7912ebe81abf"
      },
      "outputs": [
        {
          "output_type": "stream",
          "name": "stdout",
          "text": [
            "I love Python 3.8!\n"
          ]
        }
      ],
      "source": [
        "var1 = 'Python'\n",
        "var2 = '3.8'\n",
        "\n",
        "print(f'I love {var1} {var2}!')"
      ]
    },
    {
      "cell_type": "code",
      "source": [
        "price = 42.99\n",
        "weight = 30\n",
        "\n",
        "print (f'Price: ${price}. Weight: {weight} lbs.')"
      ],
      "metadata": {
        "colab": {
          "base_uri": "https://localhost:8080/"
        },
        "id": "LUPSkUHk47ZQ",
        "outputId": "af3b944c-6254-4a99-e661-11948f3ae444"
      },
      "execution_count": 4,
      "outputs": [
        {
          "output_type": "stream",
          "name": "stdout",
          "text": [
            "Price: $42.99. Weight: 30 lbs.\n"
          ]
        }
      ]
    },
    {
      "cell_type": "code",
      "source": [
        "pi = 3.14\n",
        "radius = 10\n",
        "\n",
        "area = pi * radius ** 2\n",
        "\n",
        "print(f'Area: {area:.1f}') #:.nf adds float value to the var #"
      ],
      "metadata": {
        "colab": {
          "base_uri": "https://localhost:8080/"
        },
        "id": "duqCF6175mhF",
        "outputId": "00758df4-5eb9-46c0-e7ce-e2d6f4afe00b"
      },
      "execution_count": 10,
      "outputs": [
        {
          "output_type": "stream",
          "name": "stdout",
          "text": [
            "Area: 314.0\n"
          ]
        }
      ]
    },
    {
      "cell_type": "code",
      "source": [
        "pv = 1000\n",
        "r = 0.03\n",
        "n = 5\n",
        " \n",
        "fv = pv * (1 + r) ** n\n",
        " \n",
        " \n",
        "print(f'The future value of the investment: {fv:.2f} USD')"
      ],
      "metadata": {
        "colab": {
          "base_uri": "https://localhost:8080/"
        },
        "id": "I4F5LkKO6fys",
        "outputId": "de11900f-83b2-4989-9c0d-b8bb82cf9c5c"
      },
      "execution_count": 13,
      "outputs": [
        {
          "output_type": "stream",
          "name": "stdout",
          "text": [
            "The future value of the investment: 1159.27 USD\n"
          ]
        }
      ]
    }
  ]
}