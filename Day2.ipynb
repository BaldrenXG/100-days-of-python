{
  "nbformat": 4,
  "nbformat_minor": 0,
  "metadata": {
    "colab": {
      "provenance": [],
      "authorship_tag": "ABX9TyPUGzO8trCvRKbGObvg0VZy",
      "include_colab_link": true
    },
    "kernelspec": {
      "name": "python3",
      "display_name": "Python 3"
    },
    "language_info": {
      "name": "python"
    }
  },
  "cells": [
    {
      "cell_type": "markdown",
      "metadata": {
        "id": "view-in-github",
        "colab_type": "text"
      },
      "source": [
        "<a href=\"https://colab.research.google.com/github/BaldrenXG/100-days-of-python/blob/main/Day2.ipynb\" target=\"_parent\"><img src=\"https://colab.research.google.com/assets/colab-badge.svg\" alt=\"Open In Colab\"/></a>"
      ]
    },
    {
      "cell_type": "code",
      "execution_count": 1,
      "metadata": {
        "colab": {
          "base_uri": "https://localhost:8080/"
        },
        "id": "m7O62gjd6F8T",
        "outputId": "bde16711-5aa1-4b11-c67d-eea6688fcb09"
      },
      "outputs": [
        {
          "output_type": "stream",
          "name": "stdout",
          "text": [
            "Delta: 4\n"
          ]
        }
      ],
      "source": [
        "a = 3\n",
        "b = -4\n",
        "c = 1\n",
        " \n",
        "delta = b**2 - 4 * a * c\n",
        " \n",
        " \n",
        "print(f'Delta: {delta}')"
      ]
    },
    {
      "cell_type": "code",
      "source": [
        "a1 = 14\n",
        "a10 = 50\n",
        "n = 10\n",
        " \n",
        "s10 = ((a1 + a10) / 2) * n\n",
        " \n",
        " \n",
        "print(f'The sum of the first 10 elements in a sequence: {s10}')"
      ],
      "metadata": {
        "colab": {
          "base_uri": "https://localhost:8080/"
        },
        "id": "OP03hFk-6Pbx",
        "outputId": "da8fc0bd-d82b-4def-b647-a373621b7de8"
      },
      "execution_count": 2,
      "outputs": [
        {
          "output_type": "stream",
          "name": "stdout",
          "text": [
            "The sum of the first 10 elements in a sequence: 320.0\n"
          ]
        }
      ]
    },
    {
      "cell_type": "code",
      "source": [
        "a1 = 8\n",
        "a2 = 8 * 2\n",
        "n = 6\n",
        " \n",
        "q = a2 / a1\n",
        "s6 = a1 * ((1 - q**n) / (1 - q))\n",
        " \n",
        " \n",
        "print(f'The sum of the first {n} elements of the sequence is: {s6}')"
      ],
      "metadata": {
        "colab": {
          "base_uri": "https://localhost:8080/"
        },
        "id": "8S5An_la6yCd",
        "outputId": "bbdffb90-0b34-43f5-c2c4-c203ce1c7b4d"
      },
      "execution_count": 3,
      "outputs": [
        {
          "output_type": "stream",
          "name": "stdout",
          "text": [
            "The sum of the first 6 elements of the sequence is: 504.0\n"
          ]
        }
      ]
    }
  ]
}